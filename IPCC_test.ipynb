{
 "cells": [
  {
   "cell_type": "code",
   "execution_count": 5,
   "metadata": {},
   "outputs": [],
   "source": [
    "import shutil\n",
    "from IPython.display import FileLink\n",
    "import pandas as pd\n",
    "import re\n",
    "from IPython.display import display\n",
    "from ipyfilechooser import FileChooser\n",
    "from tqdm import tqdm\n",
    "import os\n",
    "import numpy as np\n",
    "import sys\n",
    "from tabulate import tabulate\n",
    "\n",
    "from datetime import date\n",
    "\n",
    "from prettytable import PrettyTable\n",
    "from pathlib import Path\n",
    "\n",
    "import json\n",
    "import csv    \n",
    "\n",
    "# ignore group warnings\n",
    "import warnings\n",
    "warnings.filterwarnings(\"ignore\", 'This pattern has match groups')\n",
    "warnings.filterwarnings(\"ignore\", 'This pattern is interpreted as a regular expression, and has match groups')\n",
    "\n",
    "# Add complete filepath here.\n",
    "filepath = \"/Users/kazkas/Downloads/IPCCEDGAR_EF_MVP02_20240604.csv\"\n",
    "filename = Path(filepath).stem"
   ]
  },
  {
   "cell_type": "code",
   "execution_count": 2,
   "metadata": {},
   "outputs": [],
   "source": [
    "# Open the JSON file and load columns into variables\n",
    "with open(\"columns.json\", 'r') as json_file:\n",
    "    # Load the JSON data into a Python object\n",
    "    data = json.load(json_file)\n",
    "    universal_tabular_columns = data[\"universal_tabular_columns\"]\n",
    "    non_discerning_columns = data[\"non_discerning_columns\"]"
   ]
  },
  {
   "cell_type": "code",
   "execution_count": 11,
   "metadata": {},
   "outputs": [],
   "source": [
    "# change if there is an error reading csv or it is strangely formatted\n",
    "# df = pd.read_csv(filepath, on_bad_lines='skip')\n",
    "# df = pd.read_csv(filepath)\n",
    "df = pd.read_csv(filepath, engine=\"python\", encoding='utf-8', on_bad_lines='skip')\n",
    "# df = pd.read_csv(filepath, engine=\"python\", encoding='utf-8', quoting=csv.QUOTE_NONE)\n",
    "# df = pd.read_csv(filepath, sep='delimiter', header=None)"
   ]
  },
  {
   "cell_type": "code",
   "execution_count": 9,
   "metadata": {},
   "outputs": [
    {
     "data": {
      "text/plain": [
       "(557361, 24)"
      ]
     },
     "execution_count": 9,
     "metadata": {},
     "output_type": "execute_result"
    }
   ],
   "source": [
    "df.shape"
   ]
  },
  {
   "cell_type": "code",
   "execution_count": null,
   "metadata": {},
   "outputs": [],
   "source": [
    "df"
   ]
  },
  {
   "cell_type": "code",
   "execution_count": null,
   "metadata": {},
   "outputs": [],
   "source": []
  }
 ],
 "metadata": {
  "language_info": {
   "name": "python"
  }
 },
 "nbformat": 4,
 "nbformat_minor": 2
}
